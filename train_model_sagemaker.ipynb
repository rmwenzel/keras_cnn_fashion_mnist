{
 "cells": [
  {
   "cell_type": "markdown",
   "metadata": {},
   "source": [
    "## Setup"
   ]
  },
  {
   "cell_type": "code",
   "execution_count": 115,
   "metadata": {
    "collapsed": true,
    "jupyter": {
     "outputs_hidden": true
    }
   },
   "outputs": [
    {
     "name": "stdout",
     "output_type": "stream",
     "text": [
      "Solving environment: done\n",
      "\n",
      "\n",
      "==> WARNING: A newer version of conda exists. <==\n",
      "  current version: 4.5.12\n",
      "  latest version: 4.7.11\n",
      "\n",
      "Please update conda by running\n",
      "\n",
      "    $ conda update -n base -c defaults conda\n",
      "\n",
      "\n",
      "\n",
      "# All requested packages already installed.\n",
      "\n"
     ]
    }
   ],
   "source": [
    "!conda install keras"
   ]
  },
  {
   "cell_type": "code",
   "execution_count": 85,
   "metadata": {},
   "outputs": [],
   "source": [
    "import numpy as np\n",
    "import pandas as pd\n",
    "import h5py\n",
    "import os\n",
    "import sagemaker\n",
    "import boto3\n",
    "import botocore\n",
    "\n",
    "import warnings\n",
    "warnings.simplefilter(action='ignore', category=FutureWarning)\n",
    "\n",
    "%matplotlib inline\n",
    "import matplotlib.pyplot as plt\n",
    "\n",
    "from sagemaker.tensorflow import TensorFlow\n",
    "from sagemaker.tuner import IntegerParameter, CategoricalParameter, ContinuousParameter, HyperparameterTuner\n",
    "from sagemaker.analytics import TrainingJobAnalytics\n",
    "\n",
    "from cnn import FashionMNISTCNN as fmc"
   ]
  },
  {
   "cell_type": "markdown",
   "metadata": {},
   "source": [
    "## Download and store data locally"
   ]
  },
  {
   "cell_type": "code",
   "execution_count": 27,
   "metadata": {},
   "outputs": [],
   "source": [
    "# Get data\n",
    "X_train, Y_train, X_val, Y_val = fmc.load_data()"
   ]
  },
  {
   "cell_type": "markdown",
   "metadata": {},
   "source": [
    "## Upload data to s3"
   ]
  },
  {
   "cell_type": "code",
   "execution_count": 49,
   "metadata": {},
   "outputs": [],
   "source": [
    "sess = sagemaker.Session()\n",
    "role_name = sagemaker.get_execution_role()\n",
    "bucket_name = 'sagemaker-fashion-mnist'"
   ]
  },
  {
   "cell_type": "code",
   "execution_count": 50,
   "metadata": {},
   "outputs": [],
   "source": [
    "training_input_path   = sess.upload_data('data/train.hdf5', bucket=bucket_name, key_prefix='data')\n",
    "validation_input_path = sess.upload_data('data/val.hdf5', bucket=bucket_name, key_prefix='data')"
   ]
  },
  {
   "cell_type": "code",
   "execution_count": 51,
   "metadata": {},
   "outputs": [
    {
     "name": "stdout",
     "output_type": "stream",
     "text": [
      "s3://sagemaker-fashion-mnist/data/train.hdf5\n",
      "s3://sagemaker-fashion-mnist/data/val.hdf5\n"
     ]
    }
   ],
   "source": [
    "print(training_input_path)\n",
    "print(validation_input_path)"
   ]
  },
  {
   "cell_type": "markdown",
   "metadata": {},
   "source": [
    "## Train locally to test training script"
   ]
  },
  {
   "cell_type": "code",
   "execution_count": null,
   "metadata": {
    "jupyter": {
     "source_hidden": true
    }
   },
   "outputs": [],
   "source": [
    "# local directory for sagemaker job results\n",
    "sm_output_dir = os.path.join(os.getcwd(), 'sagemaker_output')\n",
    "os.makedirs(sm_output_dir, exist_ok=True)"
   ]
  },
  {
   "cell_type": "code",
   "execution_count": 31,
   "metadata": {},
   "outputs": [
    {
     "name": "stdout",
     "output_type": "stream",
     "text": [
      "s3://sagemaker-fashion-mnist/sm-output\n"
     ]
    }
   ],
   "source": [
    "# upload folder to s3 \n",
    "sm_output_path = sess.upload_data('sagemaker_output/', bucket=bucket_name, key_prefix='sm-output')\n",
    "\n",
    "print(sm_output_path)"
   ]
  },
  {
   "cell_type": "code",
   "execution_count": 54,
   "metadata": {},
   "outputs": [],
   "source": [
    "# metrics to watch\n",
    "metric_defs = [ {'Name': 'acc',\n",
    "                       'Regex': 'acc: ([0-9\\\\.]+)'},\n",
    "                       {'Name': 'val_acc',\n",
    "                       'Regex': 'val_acc: ([0-9\\\\.]+)'}]\n",
    "\n",
    "\n",
    "hyperparams = {'epochs': 1, 'batch-size': 128}\n",
    "\n",
    "# sagemaker estimator\n",
    "tf_estimator = TensorFlow(entry_point='train_script_sagemaker.py', \n",
    "                          role=role_name,\n",
    "                          train_volume_size=1,\n",
    "                          train_instance_count=1, \n",
    "                          train_instance_type='local',\n",
    "                          model_dir=sm_output_path,\n",
    "                          hyperparameters=hyperparams,\n",
    "                          metric_definitions=metric_defs,\n",
    "                          framework_version='1.13', \n",
    "                          py_version='py3',\n",
    "                          script_mode=True,\n",
    "                         )"
   ]
  },
  {
   "cell_type": "code",
   "execution_count": 56,
   "metadata": {
    "collapsed": true,
    "jupyter": {
     "outputs_hidden": true
    }
   },
   "outputs": [
    {
     "name": "stdout",
     "output_type": "stream",
     "text": [
      "Creating tmp__k6nxhp_algo-1-jncbe_1 ... \n",
      "\u001b[1BAttaching to tmp__k6nxhp_algo-1-jncbe_12mdone\u001b[0m\n",
      "\u001b[36malgo-1-jncbe_1  |\u001b[0m 2019-09-14 21:36:22,683 sagemaker-containers INFO     Imported framework sagemaker_tensorflow_container.training\n",
      "\u001b[36malgo-1-jncbe_1  |\u001b[0m 2019-09-14 21:36:22,691 sagemaker-containers INFO     No GPUs detected (normal if no gpus installed)\n",
      "\u001b[36malgo-1-jncbe_1  |\u001b[0m 2019-09-14 21:36:22,896 sagemaker-containers INFO     No GPUs detected (normal if no gpus installed)\n",
      "\u001b[36malgo-1-jncbe_1  |\u001b[0m 2019-09-14 21:36:22,919 sagemaker-containers INFO     No GPUs detected (normal if no gpus installed)\n",
      "\u001b[36malgo-1-jncbe_1  |\u001b[0m 2019-09-14 21:36:22,941 sagemaker-containers INFO     No GPUs detected (normal if no gpus installed)\n",
      "\u001b[36malgo-1-jncbe_1  |\u001b[0m 2019-09-14 21:36:22,957 sagemaker-containers INFO     Invoking user script\n",
      "\u001b[36malgo-1-jncbe_1  |\u001b[0m \n",
      "\u001b[36malgo-1-jncbe_1  |\u001b[0m Training Env:\n",
      "\u001b[36malgo-1-jncbe_1  |\u001b[0m \n",
      "\u001b[36malgo-1-jncbe_1  |\u001b[0m {\n",
      "\u001b[36malgo-1-jncbe_1  |\u001b[0m     \"additional_framework_parameters\": {},\n",
      "\u001b[36malgo-1-jncbe_1  |\u001b[0m     \"channel_input_dirs\": {\n",
      "\u001b[36malgo-1-jncbe_1  |\u001b[0m         \"training\": \"/opt/ml/input/data/training\",\n",
      "\u001b[36malgo-1-jncbe_1  |\u001b[0m         \"validation\": \"/opt/ml/input/data/validation\"\n",
      "\u001b[36malgo-1-jncbe_1  |\u001b[0m     },\n",
      "\u001b[36malgo-1-jncbe_1  |\u001b[0m     \"current_host\": \"algo-1-jncbe\",\n",
      "\u001b[36malgo-1-jncbe_1  |\u001b[0m     \"framework_module\": \"sagemaker_tensorflow_container.training:main\",\n",
      "\u001b[36malgo-1-jncbe_1  |\u001b[0m     \"hosts\": [\n",
      "\u001b[36malgo-1-jncbe_1  |\u001b[0m         \"algo-1-jncbe\"\n",
      "\u001b[36malgo-1-jncbe_1  |\u001b[0m     ],\n",
      "\u001b[36malgo-1-jncbe_1  |\u001b[0m     \"hyperparameters\": {\n",
      "\u001b[36malgo-1-jncbe_1  |\u001b[0m         \"epochs\": 1,\n",
      "\u001b[36malgo-1-jncbe_1  |\u001b[0m         \"batch-size\": 128,\n",
      "\u001b[36malgo-1-jncbe_1  |\u001b[0m         \"model_dir\": \"s3://sagemaker-fashion-mnist/sm-output\"\n",
      "\u001b[36malgo-1-jncbe_1  |\u001b[0m     },\n",
      "\u001b[36malgo-1-jncbe_1  |\u001b[0m     \"input_config_dir\": \"/opt/ml/input/config\",\n",
      "\u001b[36malgo-1-jncbe_1  |\u001b[0m     \"input_data_config\": {\n",
      "\u001b[36malgo-1-jncbe_1  |\u001b[0m         \"training\": {\n",
      "\u001b[36malgo-1-jncbe_1  |\u001b[0m             \"TrainingInputMode\": \"File\"\n",
      "\u001b[36malgo-1-jncbe_1  |\u001b[0m         },\n",
      "\u001b[36malgo-1-jncbe_1  |\u001b[0m         \"validation\": {\n",
      "\u001b[36malgo-1-jncbe_1  |\u001b[0m             \"TrainingInputMode\": \"File\"\n",
      "\u001b[36malgo-1-jncbe_1  |\u001b[0m         }\n",
      "\u001b[36malgo-1-jncbe_1  |\u001b[0m     },\n",
      "\u001b[36malgo-1-jncbe_1  |\u001b[0m     \"input_dir\": \"/opt/ml/input\",\n",
      "\u001b[36malgo-1-jncbe_1  |\u001b[0m     \"is_master\": true,\n",
      "\u001b[36malgo-1-jncbe_1  |\u001b[0m     \"job_name\": \"tensorflow-training-2019-09-14-21-36-18-940\",\n",
      "\u001b[36malgo-1-jncbe_1  |\u001b[0m     \"log_level\": 20,\n",
      "\u001b[36malgo-1-jncbe_1  |\u001b[0m     \"master_hostname\": \"algo-1-jncbe\",\n",
      "\u001b[36malgo-1-jncbe_1  |\u001b[0m     \"model_dir\": \"/opt/ml/model\",\n",
      "\u001b[36malgo-1-jncbe_1  |\u001b[0m     \"module_dir\": \"s3://sagemaker-us-west-2-406755861890/tensorflow-training-2019-09-14-21-36-18-940/source/sourcedir.tar.gz\",\n",
      "\u001b[36malgo-1-jncbe_1  |\u001b[0m     \"module_name\": \"train_script_sagemaker\",\n",
      "\u001b[36malgo-1-jncbe_1  |\u001b[0m     \"network_interface_name\": \"eth0\",\n",
      "\u001b[36malgo-1-jncbe_1  |\u001b[0m     \"num_cpus\": 2,\n",
      "\u001b[36malgo-1-jncbe_1  |\u001b[0m     \"num_gpus\": 0,\n",
      "\u001b[36malgo-1-jncbe_1  |\u001b[0m     \"output_data_dir\": \"/opt/ml/output/data\",\n",
      "\u001b[36malgo-1-jncbe_1  |\u001b[0m     \"output_dir\": \"/opt/ml/output\",\n",
      "\u001b[36malgo-1-jncbe_1  |\u001b[0m     \"output_intermediate_dir\": \"/opt/ml/output/intermediate\",\n",
      "\u001b[36malgo-1-jncbe_1  |\u001b[0m     \"resource_config\": {\n",
      "\u001b[36malgo-1-jncbe_1  |\u001b[0m         \"current_host\": \"algo-1-jncbe\",\n",
      "\u001b[36malgo-1-jncbe_1  |\u001b[0m         \"hosts\": [\n",
      "\u001b[36malgo-1-jncbe_1  |\u001b[0m             \"algo-1-jncbe\"\n",
      "\u001b[36malgo-1-jncbe_1  |\u001b[0m         ]\n",
      "\u001b[36malgo-1-jncbe_1  |\u001b[0m     },\n",
      "\u001b[36malgo-1-jncbe_1  |\u001b[0m     \"user_entry_point\": \"train_script_sagemaker.py\"\n",
      "\u001b[36malgo-1-jncbe_1  |\u001b[0m }\n",
      "\u001b[36malgo-1-jncbe_1  |\u001b[0m \n",
      "\u001b[36malgo-1-jncbe_1  |\u001b[0m Environment variables:\n",
      "\u001b[36malgo-1-jncbe_1  |\u001b[0m \n",
      "\u001b[36malgo-1-jncbe_1  |\u001b[0m SM_HOSTS=[\"algo-1-jncbe\"]\n",
      "\u001b[36malgo-1-jncbe_1  |\u001b[0m SM_NETWORK_INTERFACE_NAME=eth0\n",
      "\u001b[36malgo-1-jncbe_1  |\u001b[0m SM_HPS={\"batch-size\":128,\"epochs\":1,\"model_dir\":\"s3://sagemaker-fashion-mnist/sm-output\"}\n",
      "\u001b[36malgo-1-jncbe_1  |\u001b[0m SM_USER_ENTRY_POINT=train_script_sagemaker.py\n",
      "\u001b[36malgo-1-jncbe_1  |\u001b[0m SM_FRAMEWORK_PARAMS={}\n",
      "\u001b[36malgo-1-jncbe_1  |\u001b[0m SM_RESOURCE_CONFIG={\"current_host\":\"algo-1-jncbe\",\"hosts\":[\"algo-1-jncbe\"]}\n",
      "\u001b[36malgo-1-jncbe_1  |\u001b[0m SM_INPUT_DATA_CONFIG={\"training\":{\"TrainingInputMode\":\"File\"},\"validation\":{\"TrainingInputMode\":\"File\"}}\n",
      "\u001b[36malgo-1-jncbe_1  |\u001b[0m SM_OUTPUT_DATA_DIR=/opt/ml/output/data\n",
      "\u001b[36malgo-1-jncbe_1  |\u001b[0m SM_CHANNELS=[\"training\",\"validation\"]\n",
      "\u001b[36malgo-1-jncbe_1  |\u001b[0m SM_CURRENT_HOST=algo-1-jncbe\n",
      "\u001b[36malgo-1-jncbe_1  |\u001b[0m SM_MODULE_NAME=train_script_sagemaker\n",
      "\u001b[36malgo-1-jncbe_1  |\u001b[0m SM_LOG_LEVEL=20\n",
      "\u001b[36malgo-1-jncbe_1  |\u001b[0m SM_FRAMEWORK_MODULE=sagemaker_tensorflow_container.training:main\n",
      "\u001b[36malgo-1-jncbe_1  |\u001b[0m SM_INPUT_DIR=/opt/ml/input\n",
      "\u001b[36malgo-1-jncbe_1  |\u001b[0m SM_INPUT_CONFIG_DIR=/opt/ml/input/config\n",
      "\u001b[36malgo-1-jncbe_1  |\u001b[0m SM_OUTPUT_DIR=/opt/ml/output\n",
      "\u001b[36malgo-1-jncbe_1  |\u001b[0m SM_NUM_CPUS=2\n",
      "\u001b[36malgo-1-jncbe_1  |\u001b[0m SM_NUM_GPUS=0\n",
      "\u001b[36malgo-1-jncbe_1  |\u001b[0m SM_MODEL_DIR=/opt/ml/model\n",
      "\u001b[36malgo-1-jncbe_1  |\u001b[0m SM_MODULE_DIR=s3://sagemaker-us-west-2-406755861890/tensorflow-training-2019-09-14-21-36-18-940/source/sourcedir.tar.gz\n",
      "\u001b[36malgo-1-jncbe_1  |\u001b[0m SM_TRAINING_ENV={\"additional_framework_parameters\":{},\"channel_input_dirs\":{\"training\":\"/opt/ml/input/data/training\",\"validation\":\"/opt/ml/input/data/validation\"},\"current_host\":\"algo-1-jncbe\",\"framework_module\":\"sagemaker_tensorflow_container.training:main\",\"hosts\":[\"algo-1-jncbe\"],\"hyperparameters\":{\"batch-size\":128,\"epochs\":1,\"model_dir\":\"s3://sagemaker-fashion-mnist/sm-output\"},\"input_config_dir\":\"/opt/ml/input/config\",\"input_data_config\":{\"training\":{\"TrainingInputMode\":\"File\"},\"validation\":{\"TrainingInputMode\":\"File\"}},\"input_dir\":\"/opt/ml/input\",\"is_master\":true,\"job_name\":\"tensorflow-training-2019-09-14-21-36-18-940\",\"log_level\":20,\"master_hostname\":\"algo-1-jncbe\",\"model_dir\":\"/opt/ml/model\",\"module_dir\":\"s3://sagemaker-us-west-2-406755861890/tensorflow-training-2019-09-14-21-36-18-940/source/sourcedir.tar.gz\",\"module_name\":\"train_script_sagemaker\",\"network_interface_name\":\"eth0\",\"num_cpus\":2,\"num_gpus\":0,\"output_data_dir\":\"/opt/ml/output/data\",\"output_dir\":\"/opt/ml/output\",\"output_intermediate_dir\":\"/opt/ml/output/intermediate\",\"resource_config\":{\"current_host\":\"algo-1-jncbe\",\"hosts\":[\"algo-1-jncbe\"]},\"user_entry_point\":\"train_script_sagemaker.py\"}\n",
      "\u001b[36malgo-1-jncbe_1  |\u001b[0m SM_USER_ARGS=[\"--batch-size\",\"128\",\"--epochs\",\"1\",\"--model_dir\",\"s3://sagemaker-fashion-mnist/sm-output\"]\n",
      "\u001b[36malgo-1-jncbe_1  |\u001b[0m SM_OUTPUT_INTERMEDIATE_DIR=/opt/ml/output/intermediate\n",
      "\u001b[36malgo-1-jncbe_1  |\u001b[0m SM_CHANNEL_TRAINING=/opt/ml/input/data/training\n",
      "\u001b[36malgo-1-jncbe_1  |\u001b[0m SM_CHANNEL_VALIDATION=/opt/ml/input/data/validation\n",
      "\u001b[36malgo-1-jncbe_1  |\u001b[0m SM_HP_EPOCHS=1\n",
      "\u001b[36malgo-1-jncbe_1  |\u001b[0m SM_HP_BATCH-SIZE=128\n",
      "\u001b[36malgo-1-jncbe_1  |\u001b[0m SM_HP_MODEL_DIR=s3://sagemaker-fashion-mnist/sm-output\n",
      "\u001b[36malgo-1-jncbe_1  |\u001b[0m PYTHONPATH=/opt/ml/code:/usr/local/bin:/usr/local/lib/python36.zip:/usr/local/lib/python3.6:/usr/local/lib/python3.6/lib-dynload:/usr/local/lib/python3.6/site-packages\n",
      "\u001b[36malgo-1-jncbe_1  |\u001b[0m \n",
      "\u001b[36malgo-1-jncbe_1  |\u001b[0m Invoking script with the following command:\n",
      "\u001b[36malgo-1-jncbe_1  |\u001b[0m \n",
      "\u001b[36malgo-1-jncbe_1  |\u001b[0m /usr/local/bin/python3.6 train_script_sagemaker.py --batch-size 128 --epochs 1 --model_dir s3://sagemaker-fashion-mnist/sm-output\n",
      "\u001b[36malgo-1-jncbe_1  |\u001b[0m \n",
      "\u001b[36malgo-1-jncbe_1  |\u001b[0m \n",
      "\u001b[36malgo-1-jncbe_1  |\u001b[0m Using TensorFlow backend.\n",
      "\u001b[36malgo-1-jncbe_1  |\u001b[0m WARNING:tensorflow:From /usr/local/lib/python3.6/site-packages/tensorflow/python/framework/op_def_library.py:263: colocate_with (from tensorflow.python.framework.ops) is deprecated and will be removed in a future version.\n",
      "\u001b[36malgo-1-jncbe_1  |\u001b[0m Instructions for updating:\n",
      "\u001b[36malgo-1-jncbe_1  |\u001b[0m Colocations handled automatically by placer.\n",
      "\u001b[36malgo-1-jncbe_1  |\u001b[0m WARNING:tensorflow:From /usr/local/lib/python3.6/site-packages/keras/backend/tensorflow_backend.py:3445: calling dropout (from tensorflow.python.ops.nn_ops) with keep_prob is deprecated and will be removed in a future version.\n",
      "\u001b[36malgo-1-jncbe_1  |\u001b[0m Instructions for updating:\n",
      "\u001b[36malgo-1-jncbe_1  |\u001b[0m Please use `rate` instead of `keep_prob`. Rate should be set to `rate = 1 - keep_prob`.\n",
      "\u001b[36malgo-1-jncbe_1  |\u001b[0m _________________________________________________________________\n",
      "\u001b[36malgo-1-jncbe_1  |\u001b[0m Layer (type)                 Output Shape              Param #   \n",
      "\u001b[36malgo-1-jncbe_1  |\u001b[0m =================================================================\n",
      "\u001b[36malgo-1-jncbe_1  |\u001b[0m input_1 (InputLayer)         (None, 28, 28, 1)         0         \n",
      "\u001b[36malgo-1-jncbe_1  |\u001b[0m _________________________________________________________________\n",
      "\u001b[36malgo-1-jncbe_1  |\u001b[0m conv0_pad (ZeroPadding2D)    (None, 30, 30, 1)         0         \n",
      "\u001b[36malgo-1-jncbe_1  |\u001b[0m _________________________________________________________________\n",
      "\u001b[36malgo-1-jncbe_1  |\u001b[0m conv0 (Conv2D)               (None, 28, 28, 32)        320       \n",
      "\u001b[36malgo-1-jncbe_1  |\u001b[0m _________________________________________________________________\n",
      "\u001b[36malgo-1-jncbe_1  |\u001b[0m conv0_bn (BatchNormalization (None, 28, 28, 32)        128       \n",
      "\u001b[36malgo-1-jncbe_1  |\u001b[0m _________________________________________________________________\n",
      "\u001b[36malgo-1-jncbe_1  |\u001b[0m conv0_act (Activation)       (None, 28, 28, 32)        0         \n",
      "\u001b[36malgo-1-jncbe_1  |\u001b[0m _________________________________________________________________\n",
      "\u001b[36malgo-1-jncbe_1  |\u001b[0m conv0_pool (MaxPooling2D)    (None, 28, 28, 32)        0         \n",
      "\u001b[36malgo-1-jncbe_1  |\u001b[0m _________________________________________________________________\n",
      "\u001b[36malgo-1-jncbe_1  |\u001b[0m conv1_pad (ZeroPadding2D)    (None, 30, 30, 32)        0         \n",
      "\u001b[36malgo-1-jncbe_1  |\u001b[0m _________________________________________________________________\n",
      "\u001b[36malgo-1-jncbe_1  |\u001b[0m conv2d_1 (Conv2D)            (None, 28, 28, 64)        18496     \n",
      "\u001b[36malgo-1-jncbe_1  |\u001b[0m _________________________________________________________________\n",
      "\u001b[36malgo-1-jncbe_1  |\u001b[0m conv1_bn (BatchNormalization (None, 28, 28, 64)        256       \n",
      "\u001b[36malgo-1-jncbe_1  |\u001b[0m _________________________________________________________________\n",
      "\u001b[36malgo-1-jncbe_1  |\u001b[0m conv1_act (Activation)       (None, 28, 28, 64)        0         \n",
      "\u001b[36malgo-1-jncbe_1  |\u001b[0m _________________________________________________________________\n",
      "\u001b[36malgo-1-jncbe_1  |\u001b[0m conv1_pool (MaxPooling2D)    (None, 14, 14, 64)        0         \n",
      "\u001b[36malgo-1-jncbe_1  |\u001b[0m _________________________________________________________________\n",
      "\u001b[36malgo-1-jncbe_1  |\u001b[0m conv2_pad (ZeroPadding2D)    (None, 16, 16, 64)        0         \n",
      "\u001b[36malgo-1-jncbe_1  |\u001b[0m _________________________________________________________________\n",
      "\u001b[36malgo-1-jncbe_1  |\u001b[0m conv2d_2 (Conv2D)            (None, 14, 14, 128)       73856     \n",
      "\u001b[36malgo-1-jncbe_1  |\u001b[0m _________________________________________________________________\n",
      "\u001b[36malgo-1-jncbe_1  |\u001b[0m conv2_bn (BatchNormalization (None, 14, 14, 128)       512       \n",
      "\u001b[36malgo-1-jncbe_1  |\u001b[0m _________________________________________________________________\n",
      "\u001b[36malgo-1-jncbe_1  |\u001b[0m conv2_act (Activation)       (None, 14, 14, 128)       0         \n",
      "\u001b[36malgo-1-jncbe_1  |\u001b[0m _________________________________________________________________\n",
      "\u001b[36malgo-1-jncbe_1  |\u001b[0m conv2_pool (MaxPooling2D)    (None, 7, 7, 128)         0         \n",
      "\u001b[36malgo-1-jncbe_1  |\u001b[0m _________________________________________________________________\n",
      "\u001b[36malgo-1-jncbe_1  |\u001b[0m flatten_1 (Flatten)          (None, 6272)              0         \n",
      "\u001b[36malgo-1-jncbe_1  |\u001b[0m _________________________________________________________________\n",
      "\u001b[36malgo-1-jncbe_1  |\u001b[0m fc0_bn (BatchNormalization)  (None, 6272)              25088     \n",
      "\u001b[36malgo-1-jncbe_1  |\u001b[0m _________________________________________________________________\n",
      "\u001b[36malgo-1-jncbe_1  |\u001b[0m dropout_1 (Dropout)          (None, 6272)              0         \n",
      "\u001b[36malgo-1-jncbe_1  |\u001b[0m _________________________________________________________________\n",
      "\u001b[36malgo-1-jncbe_1  |\u001b[0m fc0_act (Dense)              (None, 512)               3211776   \n",
      "\u001b[36malgo-1-jncbe_1  |\u001b[0m _________________________________________________________________\n",
      "\u001b[36malgo-1-jncbe_1  |\u001b[0m fc1_bn (BatchNormalization)  (None, 512)               2048      \n",
      "\u001b[36malgo-1-jncbe_1  |\u001b[0m _________________________________________________________________\n",
      "\u001b[36malgo-1-jncbe_1  |\u001b[0m dropout_2 (Dropout)          (None, 512)               0         \n",
      "\u001b[36malgo-1-jncbe_1  |\u001b[0m _________________________________________________________________\n",
      "\u001b[36malgo-1-jncbe_1  |\u001b[0m fc1_act (Dense)              (None, 256)               131328    \n",
      "\u001b[36malgo-1-jncbe_1  |\u001b[0m _________________________________________________________________\n",
      "\u001b[36malgo-1-jncbe_1  |\u001b[0m fc2_bn (BatchNormalization)  (None, 256)               1024      \n",
      "\u001b[36malgo-1-jncbe_1  |\u001b[0m _________________________________________________________________\n",
      "\u001b[36malgo-1-jncbe_1  |\u001b[0m dropout_3 (Dropout)          (None, 256)               0         \n",
      "\u001b[36malgo-1-jncbe_1  |\u001b[0m _________________________________________________________________\n",
      "\u001b[36malgo-1-jncbe_1  |\u001b[0m fc2_act (Dense)              (None, 10)                2570      \n",
      "\u001b[36malgo-1-jncbe_1  |\u001b[0m =================================================================\n",
      "\u001b[36malgo-1-jncbe_1  |\u001b[0m Total params: 3,467,402\n",
      "\u001b[36malgo-1-jncbe_1  |\u001b[0m Trainable params: 3,452,874\n",
      "\u001b[36malgo-1-jncbe_1  |\u001b[0m Non-trainable params: 14,528\n",
      "\u001b[36malgo-1-jncbe_1  |\u001b[0m _________________________________________________________________\n",
      "\u001b[36malgo-1-jncbe_1  |\u001b[0m None\n",
      "\u001b[36malgo-1-jncbe_1  |\u001b[0m Downloading data from http://fashion-mnist.s3-website.eu-central-1.amazonaws.com/train-labels-idx1-ubyte.gz\n",
      "32768/29515 [=================================] - 0s 5us/step\n",
      "\u001b[36malgo-1-jncbe_1  |\u001b[0m Downloading data from http://fashion-mnist.s3-website.eu-central-1.amazonaws.com/train-images-idx3-ubyte.gz\n",
      "26427392/26421880 [==============================] - 4s 0us/step\n",
      "\u001b[36malgo-1-jncbe_1  |\u001b[0m Downloading data from http://fashion-mnist.s3-website.eu-central-1.amazonaws.com/t10k-labels-idx1-ubyte.gz\n",
      "8192/5148 [===============================================] - 0s 0us/step\n",
      "\u001b[36malgo-1-jncbe_1  |\u001b[0m Downloading data from http://fashion-mnist.s3-website.eu-central-1.amazonaws.com/t10k-images-idx3-ubyte.gz\n",
      "4423680/4422102 [==============================] - 1s 0us/step\n",
      "\u001b[36malgo-1-jncbe_1  |\u001b[0m WARNING:tensorflow:From /usr/local/lib/python3.6/site-packages/tensorflow/python/ops/math_ops.py:3066: to_int32 (from tensorflow.python.ops.math_ops) is deprecated and will be removed in a future version.\n",
      "\u001b[36malgo-1-jncbe_1  |\u001b[0m Instructions for updating:\n",
      "\u001b[36malgo-1-jncbe_1  |\u001b[0m Use tf.cast instead.\n",
      "\u001b[36malgo-1-jncbe_1  |\u001b[0m Train on 60000 samples, validate on 10000 samples\n",
      "\u001b[36malgo-1-jncbe_1  |\u001b[0m Epoch 1/1\n",
      "60000/60000 [==============================] - 245s 4ms/step - loss: 0.3470 - acc: 0.8760 - val_loss: 0.2917 - val_acc: 0.8955\n",
      "\u001b[36malgo-1-jncbe_1  |\u001b[0m \n",
      "\u001b[36malgo-1-jncbe_1  |\u001b[0m Epoch 00001: val_acc improved from -inf to 0.89550, saving model to /opt/ml/model/FashionMNISTCNN-epoch-01-val_acc-0.8955.hdf5\n",
      "\u001b[36malgo-1-jncbe_1  |\u001b[0m best_val_acc: 0.8955\n",
      "\u001b[36malgo-1-jncbe_1  |\u001b[0m WARNING:tensorflow:From train_script_sagemaker.py:395: simple_save (from tensorflow.python.saved_model.simple_save) is deprecated and will be removed in a future version.\n",
      "\u001b[36malgo-1-jncbe_1  |\u001b[0m Instructions for updating:\n",
      "\u001b[36malgo-1-jncbe_1  |\u001b[0m This function will only be available through the v1 compatibility library as tf.compat.v1.saved_model.simple_save.\n",
      "\u001b[36malgo-1-jncbe_1  |\u001b[0m WARNING:tensorflow:From /usr/local/lib/python3.6/site-packages/tensorflow/python/saved_model/signature_def_utils_impl.py:205: build_tensor_info (from tensorflow.python.saved_model.utils_impl) is deprecated and will be removed in a future version.\n",
      "\u001b[36malgo-1-jncbe_1  |\u001b[0m Instructions for updating:\n",
      "\u001b[36malgo-1-jncbe_1  |\u001b[0m This function will only be available through the v1 compatibility library as tf.compat.v1.saved_model.utils.build_tensor_info or tf.compat.v1.saved_model.build_tensor_info.\n",
      "\u001b[36malgo-1-jncbe_1  |\u001b[0m 2019-09-14 21:40:41,335 sagemaker-containers INFO     Reporting training SUCCESS\n",
      "\u001b[36mtmp__k6nxhp_algo-1-jncbe_1 exited with code 0\n",
      "\u001b[0mAborting on container exit...\n",
      "===== Job Complete =====\n"
     ]
    }
   ],
   "source": [
    "# train estimator\n",
    "input_paths = {'training': training_input_path, 'validation': validation_input_path}\n",
    "tf_estimator.fit(input_paths)"
   ]
  },
  {
   "cell_type": "markdown",
   "metadata": {},
   "source": [
    "## Train on spot instances"
   ]
  },
  {
   "cell_type": "code",
   "execution_count": 57,
   "metadata": {},
   "outputs": [],
   "source": [
    "# objective and metric\n",
    "metric_definitions = [ {'Name': 'acc',\n",
    "                       'Regex': 'acc: ([0-9\\\\.]+)'},\n",
    "                       {'Name': 'val_acc',\n",
    "                       'Regex': 'val_acc: ([0-9\\\\.]+)'}]\n",
    "\n",
    "\n",
    "hyperparameters = {'epochs': 100, 'batch-size': 128}\n",
    "\n",
    "# sagemaker estimator\n",
    "tf_estimator = TensorFlow(entry_point='train_script_sagemaker.py', \n",
    "                          role=role_name,\n",
    "                          train_volume_size=1,\n",
    "                          train_instance_count=1, \n",
    "                          train_instance_type='ml.m5.xlarge',\n",
    "                          train_use_spot_instances=True,\n",
    "                          train_max_wait=86400,\n",
    "                          model_dir=sm_output_path,\n",
    "                          framework_version='1.13', \n",
    "                          py_version='py3',\n",
    "                          script_mode=True,\n",
    "                          hyperparameters=hyperparameters,\n",
    "                          metric_definitions=metric_definitions\n",
    "                         )"
   ]
  },
  {
   "cell_type": "code",
   "execution_count": 58,
   "metadata": {},
   "outputs": [],
   "source": [
    "# train estimator\n",
    "input_paths = {'training': training_input_path, 'validation': validation_input_path}\n",
    "tf_estimator.fit(input_paths,\n",
    "                 wait=False)"
   ]
  },
  {
   "cell_type": "markdown",
   "metadata": {},
   "source": [
    "## Plot training job metrics\n"
   ]
  },
  {
   "cell_type": "code",
   "execution_count": 117,
   "metadata": {},
   "outputs": [],
   "source": [
    "metric_names = ['val_acc', 'acc']\n",
    "training_job_name = tf_estimator.latest_training_job.name\n",
    "metrics_df = TrainingJobAnalytics(training_job_name=training_job_name,\n",
    "                                         metric_names=metric_names).dataframe()"
   ]
  },
  {
   "cell_type": "code",
   "execution_count": 124,
   "metadata": {},
   "outputs": [
    {
     "data": {
      "image/png": "[encoded data removed]",
      "text/plain": [
       "<Figure size 1080x720 with 1 Axes>"
      ]
     },
     "metadata": {},
     "output_type": "display_data"
    }
   ],
   "source": [
    "def plot_metrics(metrics_df):\n",
    "    plt.figure(figsize=(15, 10))\n",
    "    mask = metrics_df['metric_name'] == 'acc'\n",
    "    x, y = metrics_df[mask]['timestamp'], metrics_df[mask]['value']\n",
    "    plt.plot(x, y, label='acc')\n",
    "    mask = metrics_df['metric_name'] == 'val_acc'\n",
    "    x, y = metrics_df[mask]['timestamp'], metrics_df[mask]['value']\n",
    "    plt.plot(x, y, label='val_acc')\n",
    "    plt.xlabel('timestamp')\n",
    "    plt.ylabel('%')\n",
    "    plt.legend()\n",
    "\n",
    "plot_metrics(metrics_df)"
   ]
  },
  {
   "cell_type": "markdown",
   "metadata": {},
   "source": [
    "## Automatic tuning"
   ]
  },
  {
   "cell_type": "code",
   "execution_count": 18,
   "metadata": {},
   "outputs": [],
   "source": [
    "# hyperparameter spaces\n",
    "conv0_hps = {'conv0_pad': IntegerParameter(1, 3),\n",
    "             'conv0_channels': IntegerParameter(24, 32),\n",
    "             'conv0_filter': IntegerParameter(2, 4),\n",
    "             'conv0_stride': IntegerParameter(1, 3),\n",
    "             'conv0_pool': IntegerParameter(1, 3),\n",
    "            }\n",
    "conv1_hps = {'conv1_pad': IntegerParameter(1, 3),\n",
    "             'conv1_channels': IntegerParameter(48, 64),\n",
    "             'conv1_filter': IntegerParameter(2, 4),\n",
    "             'conv1_stride': IntegerParameter(1, 3),\n",
    "             'conv1_pool': IntegerParameter(1, 3),\n",
    "            }\n",
    "conv2_hps = {'conv2_pad': IntegerParameter(1, 3),\n",
    "             'conv2_channels': IntegerParameter(96, 128),\n",
    "             'conv2_filter': IntegerParameter(2, 4),\n",
    "             'conv2_stride': IntegerParameter(1, 3),\n",
    "             'conv2_pool': IntegerParameter(1, 3),\n",
    "            }\n",
    "fc0_hps = {'fc0_neurons': IntegerParameter(200, 300)}\n",
    "fc1_hps = {'fc1_neurons': IntegerParameter(200, 300)}\n",
    "\n",
    "hyperparameter_ranges = {**conv0_hps, **conv1_hps, **conv2_hps, **fc0_hps, **fc1_hps}\n",
    "\n",
    "# objective and metric\n",
    "objective_metric_name = 'val_acc'\n",
    "objective_type = 'Maximize'\n",
    "metric_definitions = [{'Name': 'val_acc',\n",
    "                       'Regex': 'best_val_acc: ([0-9\\\\.]+)'}]\n",
    "\n",
    "# tuner\n",
    "tuner = HyperparameterTuner(tf_estimator,\n",
    "                            objective_metric_name,\n",
    "                            hyperparameter_ranges,\n",
    "                            metric_definitions,\n",
    "                            max_jobs=10,\n",
    "                            max_parallel_jobs=1,\n",
    "                            objective_type=objective_type)"
   ]
  },
  {
   "cell_type": "code",
   "execution_count": 30,
   "metadata": {},
   "outputs": [],
   "source": [
    "tuner.fit({'training': training_input_path, 'validation': validation_input_path})"
   ]
  },
  {
   "cell_type": "markdown",
   "metadata": {},
   "source": [
    "## Deploy best model"
   ]
  },
  {
   "cell_type": "code",
   "execution_count": 116,
   "metadata": {},
   "outputs": [
    {
     "ename": "KeyError",
     "evalue": "'ModelArtifacts'",
     "output_type": "error",
     "traceback": [
      "\u001b[0;31m---------------------------------------------------------------------------\u001b[0m",
      "\u001b[0;31mKeyError\u001b[0m                                  Traceback (most recent call last)",
      "\u001b[0;32m<ipython-input-116-1c076e7f41a4>\u001b[0m in \u001b[0;36m<module>\u001b[0;34m()\u001b[0m\n\u001b[1;32m      6\u001b[0m                          \u001b[0minstance_type\u001b[0m\u001b[0;34m=\u001b[0m\u001b[0;34m'ml.c5.large'\u001b[0m\u001b[0;34m,\u001b[0m        \u001b[0;31m# $0.134/hour in eu-west-1\u001b[0m\u001b[0;34m\u001b[0m\u001b[0m\n\u001b[1;32m      7\u001b[0m                          \u001b[0maccelerator_type\u001b[0m\u001b[0;34m=\u001b[0m\u001b[0;34m'ml.eia1.medium'\u001b[0m\u001b[0;34m,\u001b[0m  \u001b[0;31m# + $0.140/hour in eu-west-1\u001b[0m\u001b[0;34m\u001b[0m\u001b[0m\n\u001b[0;32m----> 8\u001b[0;31m                          endpoint_name=tf_endpoint_name)     # = 80% discount!\n\u001b[0m",
      "\u001b[0;32m~/anaconda3/envs/python3/lib/python3.6/site-packages/sagemaker/estimator.py\u001b[0m in \u001b[0;36mdeploy\u001b[0;34m(self, initial_instance_count, instance_type, accelerator_type, endpoint_name, use_compiled_model, update_endpoint, wait, model_name, **kwargs)\u001b[0m\n\u001b[1;32m    534\u001b[0m             \u001b[0mmodel\u001b[0m \u001b[0;34m=\u001b[0m \u001b[0mself\u001b[0m\u001b[0;34m.\u001b[0m\u001b[0m_compiled_models\u001b[0m\u001b[0;34m[\u001b[0m\u001b[0mfamily\u001b[0m\u001b[0;34m]\u001b[0m\u001b[0;34m\u001b[0m\u001b[0m\n\u001b[1;32m    535\u001b[0m         \u001b[0;32melse\u001b[0m\u001b[0;34m:\u001b[0m\u001b[0;34m\u001b[0m\u001b[0m\n\u001b[0;32m--> 536\u001b[0;31m             \u001b[0mmodel\u001b[0m \u001b[0;34m=\u001b[0m \u001b[0mself\u001b[0m\u001b[0;34m.\u001b[0m\u001b[0mcreate_model\u001b[0m\u001b[0;34m(\u001b[0m\u001b[0;34m**\u001b[0m\u001b[0mkwargs\u001b[0m\u001b[0;34m)\u001b[0m\u001b[0;34m\u001b[0m\u001b[0m\n\u001b[0m\u001b[1;32m    537\u001b[0m         \u001b[0mmodel\u001b[0m\u001b[0;34m.\u001b[0m\u001b[0mname\u001b[0m \u001b[0;34m=\u001b[0m \u001b[0mmodel_name\u001b[0m\u001b[0;34m\u001b[0m\u001b[0m\n\u001b[1;32m    538\u001b[0m         return model.deploy(\n",
      "\u001b[0;32m~/anaconda3/envs/python3/lib/python3.6/site-packages/sagemaker/tensorflow/estimator.py\u001b[0m in \u001b[0;36mcreate_model\u001b[0;34m(self, model_server_workers, role, vpc_config_override, endpoint_type, entry_point, source_dir, dependencies)\u001b[0m\n\u001b[1;32m    551\u001b[0m                 \u001b[0mentry_point\u001b[0m\u001b[0;34m=\u001b[0m\u001b[0mentry_point\u001b[0m\u001b[0;34m,\u001b[0m\u001b[0;34m\u001b[0m\u001b[0m\n\u001b[1;32m    552\u001b[0m                 \u001b[0msource_dir\u001b[0m\u001b[0;34m=\u001b[0m\u001b[0msource_dir\u001b[0m\u001b[0;34m,\u001b[0m\u001b[0;34m\u001b[0m\u001b[0m\n\u001b[0;32m--> 553\u001b[0;31m                 \u001b[0mdependencies\u001b[0m\u001b[0;34m=\u001b[0m\u001b[0mdependencies\u001b[0m\u001b[0;34m,\u001b[0m\u001b[0;34m\u001b[0m\u001b[0m\n\u001b[0m\u001b[1;32m    554\u001b[0m             )\n\u001b[1;32m    555\u001b[0m \u001b[0;34m\u001b[0m\u001b[0m\n",
      "\u001b[0;32m~/anaconda3/envs/python3/lib/python3.6/site-packages/sagemaker/tensorflow/estimator.py\u001b[0m in \u001b[0;36m_create_tfs_model\u001b[0;34m(self, role, vpc_config_override, entry_point, source_dir, dependencies)\u001b[0m\n\u001b[1;32m    573\u001b[0m         \u001b[0;34m\"\"\"Placeholder docstring\"\"\"\u001b[0m\u001b[0;34m\u001b[0m\u001b[0m\n\u001b[1;32m    574\u001b[0m         return Model(\n\u001b[0;32m--> 575\u001b[0;31m             \u001b[0mmodel_data\u001b[0m\u001b[0;34m=\u001b[0m\u001b[0mself\u001b[0m\u001b[0;34m.\u001b[0m\u001b[0mmodel_data\u001b[0m\u001b[0;34m,\u001b[0m\u001b[0;34m\u001b[0m\u001b[0m\n\u001b[0m\u001b[1;32m    576\u001b[0m             \u001b[0mrole\u001b[0m\u001b[0;34m=\u001b[0m\u001b[0mrole\u001b[0m\u001b[0;34m,\u001b[0m\u001b[0;34m\u001b[0m\u001b[0m\n\u001b[1;32m    577\u001b[0m             \u001b[0mimage\u001b[0m\u001b[0;34m=\u001b[0m\u001b[0mself\u001b[0m\u001b[0;34m.\u001b[0m\u001b[0mimage_name\u001b[0m\u001b[0;34m,\u001b[0m\u001b[0;34m\u001b[0m\u001b[0m\n",
      "\u001b[0;32m~/anaconda3/envs/python3/lib/python3.6/site-packages/sagemaker/estimator.py\u001b[0m in \u001b[0;36mmodel_data\u001b[0;34m(self)\u001b[0m\n\u001b[1;32m    554\u001b[0m             model_uri = self.sagemaker_session.sagemaker_client.describe_training_job(\n\u001b[1;32m    555\u001b[0m                 \u001b[0mTrainingJobName\u001b[0m\u001b[0;34m=\u001b[0m\u001b[0mself\u001b[0m\u001b[0;34m.\u001b[0m\u001b[0mlatest_training_job\u001b[0m\u001b[0;34m.\u001b[0m\u001b[0mname\u001b[0m\u001b[0;34m\u001b[0m\u001b[0m\n\u001b[0;32m--> 556\u001b[0;31m             )[\"ModelArtifacts\"][\"S3ModelArtifacts\"]\n\u001b[0m\u001b[1;32m    557\u001b[0m         \u001b[0;32melse\u001b[0m\u001b[0;34m:\u001b[0m\u001b[0;34m\u001b[0m\u001b[0m\n\u001b[1;32m    558\u001b[0m             logging.warning(\n",
      "\u001b[0;31mKeyError\u001b[0m: 'ModelArtifacts'"
     ]
    }
   ],
   "source": [
    "import time\n",
    "\n",
    "tf_endpoint_name = 'keras-cnn_fashion-mnist-'+time.strftime(\"%Y-%m-%d-%H-%M-%S\", time.gmtime())\n",
    "\n",
    "tf_predictor = tf_estimator.deploy(initial_instance_count=1,\n",
    "                         instance_type='ml.c5.large',        # $0.134/hour in eu-west-1\n",
    "                         accelerator_type='ml.eia1.medium',  # + $0.140/hour in eu-west-1\n",
    "                         endpoint_name=tf_endpoint_name)     # = 80% discount!"
   ]
  },
  {
   "cell_type": "markdown",
   "metadata": {},
   "source": [
    "## Cleanup"
   ]
  },
  {
   "cell_type": "code",
   "execution_count": null,
   "metadata": {},
   "outputs": [],
   "source": [
    "sess.delete_endpoint(endpoint_name=tf_endpoint_name) "
   ]
  }
 ],
 "metadata": {
  "kernelspec": {
   "display_name": "conda_python3",
   "language": "python",
   "name": "conda_python3"
  },
  "language_info": {
   "codemirror_mode": {
    "name": "ipython",
    "version": 3
   },
   "file_extension": ".py",
   "mimetype": "text/x-python",
   "name": "python",
   "nbconvert_exporter": "python",
   "pygments_lexer": "ipython3",
   "version": "3.6.5"
  }
 },
 "nbformat": 4,
 "nbformat_minor": 4
}
