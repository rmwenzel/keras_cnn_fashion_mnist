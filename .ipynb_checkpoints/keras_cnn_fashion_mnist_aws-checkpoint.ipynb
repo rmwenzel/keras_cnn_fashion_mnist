{
 "cells": [
  {
   "cell_type": "markdown",
   "metadata": {},
   "source": [
    "## Setup"
   ]
  },
  {
   "cell_type": "code",
   "execution_count": null,
   "metadata": {},
   "outputs": [],
   "source": [
    "import numpy as np\n",
    "import h5py\n",
    "import os\n",
    "import sagemaker\n",
    "\n",
    "from keras.datasets import fashion_mnist\n",
    "\n",
    "import matplotlib.pyplot as plt\n",
    "%matplotlib inline\n",
    "\n",
    "import warnings\n",
    "warnings.simplefilter(action='ignore', category=FutureWarning)"
   ]
  },
  {
   "cell_type": "code",
   "execution_count": null,
   "metadata": {},
   "outputs": [],
   "source": [
    "# Sagemaker variables\n",
    "sess = sagemaker.Session()\n",
    "role = sagemaker.get_execution_role()"
   ]
  },
  {
   "cell_type": "markdown",
   "metadata": {},
   "source": [
    "## Download and store data locally"
   ]
  },
  {
   "cell_type": "code",
   "execution_count": null,
   "metadata": {},
   "outputs": [],
   "source": [
    "# load data\n",
    "(X_train, Y_train), (X_val, Y_val) = fashion_mnist.load_data()\n",
    "\n",
    "# create directory for data\n",
    "os.makedirs(\"./data\", exist_ok = True)\n",
    "\n",
    "# store in hdf5 files\n",
    "with h5py.File('./data/train.h5', 'w') as hf:\n",
    "    hf.create_dataset('X_train', data=X_train)\n",
    "    hf.create_dataset('Y_train', data=Y_train)\n",
    "\n",
    "with h5py.File('./data/val.h5', 'w') as hf:\n",
    "    hf.create_dataset('X_val', data=X_val)\n",
    "    hf.create_dataset('Y_val', data=Y_val)"
   ]
  },
  {
   "cell_type": "markdown",
   "metadata": {},
   "source": [
    "## Upload data to s3"
   ]
  },
  {
   "cell_type": "code",
   "execution_count": null,
   "metadata": {},
   "outputs": [],
   "source": [
    "prefix = 'keras-cnn-fashion-mnist'\n",
    "\n",
    "training_input_path   = sess.upload_data('data/train.h5', key_prefix=prefix+'/train')\n",
    "validation_input_path = sess.upload_data('data/val.h5', key_prefix=prefix+'/val')\n",
    "\n",
    "print(training_input_path)\n",
    "print(validation_input_path)"
   ]
  },
  {
   "cell_type": "markdown",
   "metadata": {},
   "source": [
    "## Train on spot instances using automatic tuning"
   ]
  },
  {
   "cell_type": "code",
   "execution_count": null,
   "metadata": {},
   "outputs": [],
   "source": [
    "from sagemaker.tuner import IntegerParameter, CategoricalParameter, ContinuousParameter, HyperparameterTuner\n",
    "\n",
    "# local directory for model checkpoints\n",
    "os.makedirs(\"./models/checkpoints\", exist_ok = True)\n",
    "\n",
    "# sagemaker estimator\n",
    "tf_estimator = TensorFlow(entry_point='keras_cnn_fashion_mnist.py', \n",
    "                          role=role,\n",
    "                          train_volume_size=1,\n",
    "                          train_instance_count=1, \n",
    "                          train_instance_type='ml.m5.xlarge',\n",
    "                          train_use_spot_instances=True,\n",
    "                          train_max_wait=600,\n",
    "                          checkpoint_local_path='models/checkpoints',\n",
    "                          framework_version='1.13', \n",
    "                          py_version='py3',\n",
    "                          script_mode=True\n",
    "                         )\n",
    "\n",
    "# hyperparameter spaces\n",
    "conv0_hps = {'conv0_pad': IntegerParameter(1, 3),\n",
    "             'conv0_channels': IntegerParameter(24, 32),\n",
    "             'conv0_filter': IntegerParameter(2, 4),\n",
    "             'conv0_stride': IntegerParameter(1, 3),\n",
    "             'conv0_pool': IntegerParameter(1, 3),\n",
    "             'conv0_activation': ['relu'],\n",
    "            }\n",
    "conv1_hps = {'conv1_pad': IntegerParameter(1, 3),\n",
    "             'conv1_channels': IntegerParameter(48, 64),\n",
    "             'conv1_filter': IntegerParameter(2, 4),\n",
    "             'conv1_stride': IntegerParameter(1, 3),\n",
    "             'conv1_pool': IntegerParameter(1, 3),\n",
    "             'conv1_activation': ['relu'],\n",
    "            }\n",
    "conv2_hps = {'conv2_pad': IntegerParameter(1, 3),\n",
    "             'conv2_channels': IntegerParameter(96, 128),\n",
    "             'conv2_filter': IntegerParameter(2, 4),\n",
    "             'conv2_stride': IntegerParameter(1, 3),\n",
    "             'conv2_pool': IntegerParameter(1, 3),\n",
    "             'conv2_activation': ['relu'],\n",
    "}\n",
    "fc0_hps = {'fc0_neurons': IntegerParameter(200, 300),\n",
    "              'fc0_activation': ['relu']\n",
    "              }\n",
    "fc1_hps = {'fc1_neurons': IntegerParameter(200, 300),\n",
    "              'fc1_activation': ['relu']\n",
    "              }\n",
    "\n",
    "hps = {**conv0_hps, **conv1_hps, **conv2_hps, **fc0_hps, **fc1_hps}\n",
    "\n",
    "# fixed hyperparameters\n",
    "estimator.set_hyperparameters(epochs=100, gpus=gpu_count, batch_size=batch_size)\n",
    "\n",
    "# objective and metric\n",
    "objective_metric_name = 'val_acc'\n",
    "objective_type = 'Maximize'\n",
    "metric_definitions = [{'Name': 'val_acc',\n",
    "                       'Regex': 'best_val_acc: ([0-9\\\\.]+)'}]\n",
    "\n",
    "# tuner\n",
    "tuner = HyperparameterTuner(tf_estimator,\n",
    "                            objective_metric_name,\n",
    "                            hyperparameter_ranges,\n",
    "                            metric_definitions,\n",
    "                            max_jobs=10,\n",
    "                            max_parallel_jobs=2,\n",
    "                            objective_type=objective_type)"
   ]
  },
  {
   "cell_type": "code",
   "execution_count": null,
   "metadata": {},
   "outputs": [],
   "source": [
    "tuner.fit({'training': training_input_path, 'validation': validation_input_path})"
   ]
  },
  {
   "cell_type": "markdown",
   "metadata": {},
   "source": [
    "## Deploy best model"
   ]
  },
  {
   "cell_type": "code",
   "execution_count": null,
   "metadata": {},
   "outputs": [],
   "source": [
    "import time\n",
    "\n",
    "tf_endpoint_name = 'keras-tf-fmnist-'+time.strftime(\"%Y-%m-%d-%H-%M-%S\", time.gmtime())\n",
    "\n",
    "tf_predictor = tuner.deploy(initial_instance_count=1,\n",
    "                         instance_type='ml.c5.large',       \n",
    "                         accelerator_type='ml.eia1.medium',\n",
    "                         endpoint_name=tf_endpoint_name)"
   ]
  },
  {
   "cell_type": "markdown",
   "metadata": {},
   "source": [
    "## Cleanup"
   ]
  },
  {
   "cell_type": "code",
   "execution_count": null,
   "metadata": {},
   "outputs": [],
   "source": [
    "sess.delete_endpoint(endpoint_name=tf_endpoint_name) "
   ]
  }
 ],
 "metadata": {
  "kernelspec": {
   "display_name": "Python 3",
   "language": "python",
   "name": "python3"
  },
  "language_info": {
   "codemirror_mode": {
    "name": "ipython",
    "version": 3
   },
   "file_extension": ".py",
   "mimetype": "text/x-python",
   "name": "python",
   "nbconvert_exporter": "python",
   "pygments_lexer": "ipython3",
   "version": "3.7.3"
  }
 },
 "nbformat": 4,
 "nbformat_minor": 2
}
